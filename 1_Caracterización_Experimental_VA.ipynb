{
  "nbformat": 4,
  "nbformat_minor": 0,
  "metadata": {
    "colab": {
      "provenance": [],
      "mount_file_id": "1YB5SFXXqdYYI0wEKaTG_NafwS5HtLbwl",
      "authorship_tag": "ABX9TyP5+wwPeqahsELMnpWgAFkb",
      "include_colab_link": true
    },
    "kernelspec": {
      "name": "python3",
      "display_name": "Python 3"
    },
    "language_info": {
      "name": "python"
    }
  },
  "cells": [
    {
      "cell_type": "markdown",
      "metadata": {
        "id": "view-in-github",
        "colab_type": "text"
      },
      "source": [
        "<a href=\"https://colab.research.google.com/github/Davidospina1000/Data-Integration/blob/main/1_Caracterizaci%C3%B3n_Experimental_VA.ipynb\" target=\"_parent\"><img src=\"https://colab.research.google.com/assets/colab-badge.svg\" alt=\"Open In Colab\"/></a>"
      ]
    },
    {
      "cell_type": "markdown",
      "source": [
        "# Caracterización experimental de variables\n",
        "\n",
        "0. Cargar las librerías de trabajo"
      ],
      "metadata": {
        "id": "tVUWnxpXePj3"
      }
    },
    {
      "cell_type": "code",
      "source": [
        "import numpy as np\n",
        "import pandas as pd\n",
        "import matplotlib.pyplot as plt\n",
        "import seaborn as sns"
      ],
      "metadata": {
        "id": "WcK8gZz3ej5K"
      },
      "execution_count": null,
      "outputs": []
    },
    {
      "cell_type": "code",
      "source": [
        "from google.colab import drive\n",
        "drive.mount('/content/drive')"
      ],
      "metadata": {
        "colab": {
          "base_uri": "https://localhost:8080/"
        },
        "id": "a-XU1MWxZLD1",
        "outputId": "ca157a53-7a00-48a5-e283-d3698c1c9549"
      },
      "execution_count": null,
      "outputs": [
        {
          "output_type": "stream",
          "name": "stdout",
          "text": [
            "Drive already mounted at /content/drive; to attempt to forcibly remount, call drive.mount(\"/content/drive\", force_remount=True).\n"
          ]
        }
      ]
    },
    {
      "cell_type": "code",
      "source": [
        "nxl = '/content/drive/MyDrive/BUSINESS INTELLIGENCE/Integración de datos y prospectiva/3. FallasTecnologicas.xlsx'\n",
        "\n",
        "#'/content/3. FallasTecnologicas.xlsx'"
      ],
      "metadata": {
        "id": "wFKEElyPlVd0"
      },
      "execution_count": null,
      "outputs": []
    },
    {
      "cell_type": "code",
      "execution_count": null,
      "metadata": {
        "id": "kYlrjyleT5N7"
      },
      "outputs": [],
      "source": [
        "XDB = pd.read_excel(nxl, sheet_name=0)\n",
        "XDB.head(100) #Mostrar los primeros 100 datos\n",
        "\n",
        "#Tomamos las variables de interés\n",
        "Xev=XDB.iloc[:,3] #Variable Eventos Semanales\n",
        "Xsev=XDB.iloc[:,4] #Pérdidas promedio por Evento\n",
        "LDA=np.multiply(Xev,Xsev) #Multiplicamos las variables"
      ]
    },
    {
      "cell_type": "code",
      "source": [
        "#Gráficamos la Distribución de las Pérdidas\n",
        "plt.figure()\n",
        "sns.histplot(LDA, kde=True, bins=10)\n",
        "plt.title('Distribución de Pérdidas')\n",
        "plt.xlabel('Pérdidas')\n",
        "plt.ylabel('Frecuencia')\n",
        "plt.show"
      ],
      "metadata": {
        "colab": {
          "base_uri": "https://localhost:8080/",
          "height": 641
        },
        "id": "Yxe_ARlFilAZ",
        "outputId": "f1e98374-6c7d-4d6c-eaa3-0605838811cf"
      },
      "execution_count": null,
      "outputs": [
        {
          "output_type": "execute_result",
          "data": {
            "text/plain": [
              "<function matplotlib.pyplot.show(close=None, block=None)>"
            ],
            "text/html": [
              "<div style=\"max-width:800px; border: 1px solid var(--colab-border-color);\"><style>\n",
              "      pre.function-repr-contents {\n",
              "        overflow-x: auto;\n",
              "        padding: 8px 12px;\n",
              "        max-height: 500px;\n",
              "      }\n",
              "\n",
              "      pre.function-repr-contents.function-repr-contents-collapsed {\n",
              "        cursor: pointer;\n",
              "        max-height: 100px;\n",
              "      }\n",
              "    </style>\n",
              "    <pre style=\"white-space: initial; background:\n",
              "         var(--colab-secondary-surface-color); padding: 8px 12px;\n",
              "         border-bottom: 1px solid var(--colab-border-color);\"><b>matplotlib.pyplot.show</b><br/>def show(*args, **kwargs) -&gt; None</pre><pre class=\"function-repr-contents function-repr-contents-collapsed\" style=\"\"><a class=\"filepath\" style=\"display:none\" href=\"#\">/usr/local/lib/python3.11/dist-packages/matplotlib/pyplot.py</a>Display all open figures.\n",
              "\n",
              "Parameters\n",
              "----------\n",
              "block : bool, optional\n",
              "    Whether to wait for all figures to be closed before returning.\n",
              "\n",
              "    If `True` block and run the GUI main loop until all figure windows\n",
              "    are closed.\n",
              "\n",
              "    If `False` ensure that all figure windows are displayed and return\n",
              "    immediately.  In this case, you are responsible for ensuring\n",
              "    that the event loop is running to have responsive figures.\n",
              "\n",
              "    Defaults to True in non-interactive mode and to False in interactive\n",
              "    mode (see `.pyplot.isinteractive`).\n",
              "\n",
              "See Also\n",
              "--------\n",
              "ion : Enable interactive mode, which shows / updates the figure after\n",
              "      every plotting command, so that calling ``show()`` is not necessary.\n",
              "ioff : Disable interactive mode.\n",
              "savefig : Save the figure to an image file instead of showing it on screen.\n",
              "\n",
              "Notes\n",
              "-----\n",
              "**Saving figures to file and showing a window at the same time**\n",
              "\n",
              "If you want an image file as well as a user interface window, use\n",
              "`.pyplot.savefig` before `.pyplot.show`. At the end of (a blocking)\n",
              "``show()`` the figure is closed and thus unregistered from pyplot. Calling\n",
              "`.pyplot.savefig` afterwards would save a new and thus empty figure. This\n",
              "limitation of command order does not apply if the show is non-blocking or\n",
              "if you keep a reference to the figure and use `.Figure.savefig`.\n",
              "\n",
              "**Auto-show in jupyter notebooks**\n",
              "\n",
              "The jupyter backends (activated via ``%matplotlib inline``,\n",
              "``%matplotlib notebook``, or ``%matplotlib widget``), call ``show()`` at\n",
              "the end of every cell by default. Thus, you usually don&#x27;t have to call it\n",
              "explicitly there.</pre>\n",
              "      <script>\n",
              "      if (google.colab.kernel.accessAllowed && google.colab.files && google.colab.files.view) {\n",
              "        for (const element of document.querySelectorAll('.filepath')) {\n",
              "          element.style.display = 'block'\n",
              "          element.onclick = (event) => {\n",
              "            event.preventDefault();\n",
              "            event.stopPropagation();\n",
              "            google.colab.files.view(element.textContent, 569);\n",
              "          };\n",
              "        }\n",
              "      }\n",
              "      for (const element of document.querySelectorAll('.function-repr-contents')) {\n",
              "        element.onclick = (event) => {\n",
              "          event.preventDefault();\n",
              "          event.stopPropagation();\n",
              "          element.classList.toggle('function-repr-contents-collapsed');\n",
              "        };\n",
              "      }\n",
              "      </script>\n",
              "      </div>"
            ]
          },
          "metadata": {},
          "execution_count": 5
        },
        {
          "output_type": "display_data",
          "data": {
            "text/plain": [
              "<Figure size 640x480 with 1 Axes>"
            ],
            "image/png": "[encoded data removed]"
          },
          "metadata": {}
        }
      ]
    },
    {
      "cell_type": "markdown",
      "source": [
        "2. Caracterización de la distribución de pérdidas"
      ],
      "metadata": {
        "id": "TJkW8XiGmTWJ"
      }
    },
    {
      "cell_type": "code",
      "source": [
        "counts,bin_edges=np.histogram(LDA,bins=10)\n",
        "print(counts)    #Cuantos datos hay por intervalo\n",
        "print(bin_edges) #Límites de los intervalos\n",
        "\n",
        "#Los valores centrales - marcas de clase\n",
        "mc=(bin_edges[1:]+bin_edges[:-1])/2\n",
        "#Límites inferiores bin_edges[:-1]\n",
        "#Límites superiores bin_edges[1:]\n",
        "print(\"Los valores centrales de las clases son:\\n\",mc)\n",
        "\n",
        "#Cuantos datos hay por intervalo\n",
        "fp=counts/sum(counts)\n",
        "print(\"Los datos por intervalo son:\\n\",fp)"
      ],
      "metadata": {
        "colab": {
          "base_uri": "https://localhost:8080/"
        },
        "id": "2I-mLCzIl_NV",
        "outputId": "985d6b69-7913-4add-cfbf-9f6a967dea39"
      },
      "execution_count": null,
      "outputs": [
        {
          "output_type": "stream",
          "name": "stdout",
          "text": [
            "[533  93  37  14   9   5   3   5   1   1]\n",
            "[  0.1423   11.23637  22.33044  33.42451  44.51858  55.61265  66.70672\n",
            "  77.80079  88.89486  99.98893 111.083  ]\n",
            "Los valores centrales de las clases son:\n",
            " [  5.689335  16.783405  27.877475  38.971545  50.065615  61.159685\n",
            "  72.253755  83.347825  94.441895 105.535965]\n",
            "Los datos por intervalo son:\n",
            " [0.76034237 0.13266762 0.05278174 0.01997147 0.0128388  0.00713267\n",
            " 0.0042796  0.00713267 0.00142653 0.00142653]\n"
          ]
        }
      ]
    },
    {
      "cell_type": "code",
      "source": [
        "#Se procede con el cálculo de las medidas de tendencia central: Media, varianza,coeficiente de asimetría, Kurtosis\n",
        "\n",
        "u=np.sum(np.multiply(mc,fp))\n",
        "print(\"La media de los datos es:\",u)"
      ],
      "metadata": {
        "colab": {
          "base_uri": "https://localhost:8080/"
        },
        "id": "zKZDipauoWyj",
        "outputId": "0aacad30-ac88-4d74-c30d-44387fa95d6e"
      },
      "execution_count": null,
      "outputs": [
        {
          "output_type": "stream",
          "name": "stdout",
          "text": [
            "La media de los datos es: 11.07019634094151\n"
          ]
        }
      ]
    },
    {
      "cell_type": "code",
      "source": [
        "#Desviación estándar - varianza\n",
        "var=np.sum(np.multiply(np.power(mc-u,2),fp)) #(mc-u)**2\n",
        "print(\"La varianza de los datos es:\",var)\n",
        "std=np.sqrt(var)\n",
        "print(\"La desviación estándar de los datos es:\",std)\n",
        "\n",
        "#Coeficiente de asimetría\n",
        "cas=np.sum(np.multiply(np.power((mc-u)/std,3),fp))\n",
        "print(\"El coeficiente de asimetría de los datos es:\",cas)\n",
        "\n",
        "#Kurtosis\n",
        "ck=np.sum(np.multiply(np.power((mc-u)/std,4),fp))\n",
        "ck=ck-3\n",
        "print(\"La kurtosis de los datos es:\",ck)\n"
      ],
      "metadata": {
        "colab": {
          "base_uri": "https://localhost:8080/"
        },
        "id": "arGxlbEWpbi9",
        "outputId": "8570b37f-18aa-4ba5-ed69-5c18b5a02867"
      },
      "execution_count": null,
      "outputs": [
        {
          "output_type": "stream",
          "name": "stdout",
          "text": [
            "La varianza de los datos es: 170.14888945066892\n",
            "La desviación estándar de los datos es: 13.044113210589247\n",
            "El coeficiente de asimetría de los datos es: 3.58241551867726\n",
            "La kurtosis de los datos es: 15.266617247076208\n"
          ]
        }
      ]
    },
    {
      "cell_type": "markdown",
      "source": [
        "## Análisis de resultados\n",
        "\n",
        "En la base de datos se cuenta con un total de 701 registros de eventos de pérdida asociados con las operaciones a través de canales electrónicos de una FINTECH. Estos registros nos arrojan como resultado una confiabilidad en la estimación de los estadísticos del 99% de acuerdo con la teoría de los percentiles.\n",
        "\n",
        "En la gráfica anterior podemos observar que la distribución presenta estructura de cola larga, esto promovido por un coeficiente de asimetría positivo aproximadamente de 3.348, y un coeficiente de curtosis aproximadamente de 15 unidades, lo que indica que la mayoría de los datos se encuentran muy concentrados alrededor de la media, en un 76% aproximadamente. Esta estructura muestra claramente que los eventos de pérdida extremos son muy escasos, lo que indica una baja exposición al riesgo."
      ],
      "metadata": {
        "id": "ebqEpfSgsfyJ"
      }
    },
    {
      "cell_type": "markdown",
      "source": [
        "3. Se procede con el muestreo de la variable aleatoria de pérdidas"
      ],
      "metadata": {
        "id": "KYtcd0Y1aHuk"
      }
    },
    {
      "cell_type": "code",
      "source": [
        "from scipy.stats import skew, kurtosis\n",
        "\n",
        "#0. Preparar la variable para el muestreo\n",
        "\n",
        "LDAdf=pd.DataFrame(LDA)\n",
        "\n",
        "#1. Se procede con el muestreo\n",
        "LDAs=LDAdf.sample(n=1000, replace=True)\n",
        "casd = skew(LDAs)\n",
        "print(\"El coeficiente de asimetría de los datos es:\",casd)\n",
        "\n",
        "ckd = kurtosis(LDAs)\n",
        "ckd = ckd - 3\n",
        "print(\"La kurtosis de los datos es:\",ckd)\n",
        "\n",
        "pvcas=(cas-casd)/cas\n",
        "print(\"Variación del coeficiente de asimetría de los datos es:\",pvcas)\n",
        "\n",
        "pvkd=(ck-ckd)/ck\n",
        "print(\"Variación del coeficiente de kurtosis de los datos es:\",pvkd)\n"
      ],
      "metadata": {
        "colab": {
          "base_uri": "https://localhost:8080/"
        },
        "id": "japYw8SYaPEI",
        "outputId": "1f1b426e-b7f9-4a62-cb2a-7e34bc0220d4"
      },
      "execution_count": null,
      "outputs": [
        {
          "output_type": "stream",
          "name": "stdout",
          "text": [
            "El coeficiente de asimetría de los datos es: [3.35662371]\n",
            "La kurtosis de los datos es: [11.23383739]\n",
            "Variación del coeficiente de asimetría de los datos es: [0.06302781]\n",
            "Variación del coeficiente de kurtosis de los datos es: [0.26415674]\n"
          ]
        }
      ]
    },
    {
      "cell_type": "code",
      "source": [
        "#Se procede con la gráfica de las pérdidas\n",
        "plt.figure()\n",
        "sns.histplot(LDA, kde=True, bins=10, color='red')\n",
        "sns.histplot(LDAs, kde=True, bins=10, color='green')\n",
        "plt.title('Distribución de Pérdidas')\n",
        "plt.legend(['Diferencia entre Distribuciones de Pérdidas'])\n",
        "plt.xlabel('Pérdidas')\n",
        "plt.ylabel('Frecuencia')\n",
        "plt.show"
      ],
      "metadata": {
        "colab": {
          "base_uri": "https://localhost:8080/",
          "height": 641
        },
        "id": "QlaUstG5cuY2",
        "outputId": "eb32f283-4aad-4556-ef0d-e43163bf9891"
      },
      "execution_count": null,
      "outputs": [
        {
          "output_type": "execute_result",
          "data": {
            "text/plain": [
              "<function matplotlib.pyplot.show(close=None, block=None)>"
            ],
            "text/html": [
              "<div style=\"max-width:800px; border: 1px solid var(--colab-border-color);\"><style>\n",
              "      pre.function-repr-contents {\n",
              "        overflow-x: auto;\n",
              "        padding: 8px 12px;\n",
              "        max-height: 500px;\n",
              "      }\n",
              "\n",
              "      pre.function-repr-contents.function-repr-contents-collapsed {\n",
              "        cursor: pointer;\n",
              "        max-height: 100px;\n",
              "      }\n",
              "    </style>\n",
              "    <pre style=\"white-space: initial; background:\n",
              "         var(--colab-secondary-surface-color); padding: 8px 12px;\n",
              "         border-bottom: 1px solid var(--colab-border-color);\"><b>matplotlib.pyplot.show</b><br/>def show(*args, **kwargs) -&gt; None</pre><pre class=\"function-repr-contents function-repr-contents-collapsed\" style=\"\"><a class=\"filepath\" style=\"display:none\" href=\"#\">/usr/local/lib/python3.11/dist-packages/matplotlib/pyplot.py</a>Display all open figures.\n",
              "\n",
              "Parameters\n",
              "----------\n",
              "block : bool, optional\n",
              "    Whether to wait for all figures to be closed before returning.\n",
              "\n",
              "    If `True` block and run the GUI main loop until all figure windows\n",
              "    are closed.\n",
              "\n",
              "    If `False` ensure that all figure windows are displayed and return\n",
              "    immediately.  In this case, you are responsible for ensuring\n",
              "    that the event loop is running to have responsive figures.\n",
              "\n",
              "    Defaults to True in non-interactive mode and to False in interactive\n",
              "    mode (see `.pyplot.isinteractive`).\n",
              "\n",
              "See Also\n",
              "--------\n",
              "ion : Enable interactive mode, which shows / updates the figure after\n",
              "      every plotting command, so that calling ``show()`` is not necessary.\n",
              "ioff : Disable interactive mode.\n",
              "savefig : Save the figure to an image file instead of showing it on screen.\n",
              "\n",
              "Notes\n",
              "-----\n",
              "**Saving figures to file and showing a window at the same time**\n",
              "\n",
              "If you want an image file as well as a user interface window, use\n",
              "`.pyplot.savefig` before `.pyplot.show`. At the end of (a blocking)\n",
              "``show()`` the figure is closed and thus unregistered from pyplot. Calling\n",
              "`.pyplot.savefig` afterwards would save a new and thus empty figure. This\n",
              "limitation of command order does not apply if the show is non-blocking or\n",
              "if you keep a reference to the figure and use `.Figure.savefig`.\n",
              "\n",
              "**Auto-show in jupyter notebooks**\n",
              "\n",
              "The jupyter backends (activated via ``%matplotlib inline``,\n",
              "``%matplotlib notebook``, or ``%matplotlib widget``), call ``show()`` at\n",
              "the end of every cell by default. Thus, you usually don&#x27;t have to call it\n",
              "explicitly there.</pre>\n",
              "      <script>\n",
              "      if (google.colab.kernel.accessAllowed && google.colab.files && google.colab.files.view) {\n",
              "        for (const element of document.querySelectorAll('.filepath')) {\n",
              "          element.style.display = 'block'\n",
              "          element.onclick = (event) => {\n",
              "            event.preventDefault();\n",
              "            event.stopPropagation();\n",
              "            google.colab.files.view(element.textContent, 569);\n",
              "          };\n",
              "        }\n",
              "      }\n",
              "      for (const element of document.querySelectorAll('.function-repr-contents')) {\n",
              "        element.onclick = (event) => {\n",
              "          event.preventDefault();\n",
              "          event.stopPropagation();\n",
              "          element.classList.toggle('function-repr-contents-collapsed');\n",
              "        };\n",
              "      }\n",
              "      </script>\n",
              "      </div>"
            ]
          },
          "metadata": {},
          "execution_count": 20
        },
        {
          "output_type": "display_data",
          "data": {
            "text/plain": [
              "<Figure size 640x480 with 1 Axes>"
            ],
            "image/png": "[encoded data removed]"
          },
          "metadata": {}
        }
      ]
    },
    {
      "cell_type": "markdown",
      "source": [
        "4. Mapeo de la distribución de probabilidad\n"
      ],
      "metadata": {
        "id": "3I7JQdV5bGH7"
      }
    },
    {
      "cell_type": "code",
      "source": [
        "if abs(cas)<0.5 and abs(ck)<0.5:\n",
        "  print(\"Posible distribución Normal\")\n",
        "\n",
        "elif cas>0 and ck>3:\n",
        "  if ck>=8:\n",
        "    print(\"Posible distribución Exponencial\")\n",
        "  elif ck>=6:\n",
        "    print(\"Posible distribución Gamma\")\n",
        "  else:\n",
        "    print(\"Posible distribución Weibull\")\n",
        "\n",
        "elif cas<0 and ck<3:\n",
        "  print(\"Posible distribución Beta\")\n",
        "elif ck<3:\n",
        "  print(\"Posible distribución Uniforme\")\n",
        "else:\n",
        "  print(\"No se pudo identificar la distribución\")\n"
      ],
      "metadata": {
        "colab": {
          "base_uri": "https://localhost:8080/"
        },
        "id": "OLEMH0cieltJ",
        "outputId": "1f45883c-d0ee-4bea-9ceb-3071e1ecccd0"
      },
      "execution_count": null,
      "outputs": [
        {
          "output_type": "stream",
          "name": "stdout",
          "text": [
            "Posible distribución Exponencial\n"
          ]
        }
      ]
    },
    {
      "cell_type": "markdown",
      "source": [
        "**Análisis de resultados**\n",
        "\n",
        "El número de datos disponibles para este análisis fueron en total 701 datos, lo que lo ubica en una confiabilidad del 99%. Para incrementar esta confiabilidad se procedió con un muestreo basado en el método de Montecarlo (Giro de la ruleta - Cargada) logrando en muchos casos coeficientes de curtosis y coeficientes de asimetría por debajo del 5% y coeficiente de curtosis del 15%, a diferencia del método sampling que utiliza la librería pandas, los cuales tuvieron variaciones mayores a estos porcentajes. El método de montecarlo asegura variaciones mucho más bajas en estos coeficientes.\n",
        "\n"
      ],
      "metadata": {
        "id": "8cTsIGQJqcGA"
      }
    }
  ]
}