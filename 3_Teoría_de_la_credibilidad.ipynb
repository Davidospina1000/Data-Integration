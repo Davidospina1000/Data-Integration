{
  "nbformat": 4,
  "nbformat_minor": 0,
  "metadata": {
    "colab": {
      "provenance": [],
      "authorship_tag": "ABX9TyNjIks5f9huiTJDSKZBRpvV",
      "include_colab_link": true
    },
    "kernelspec": {
      "name": "python3",
      "display_name": "Python 3"
    },
    "language_info": {
      "name": "python"
    }
  },
  "cells": [
    {
      "cell_type": "markdown",
      "metadata": {
        "id": "view-in-github",
        "colab_type": "text"
      },
      "source": [
        "<a href=\"https://colab.research.google.com/github/Davidospina1000/Data-Integration/blob/main/3_Teor%C3%ADa_de_la_credibilidad.ipynb\" target=\"_parent\"><img src=\"https://colab.research.google.com/assets/colab-badge.svg\" alt=\"Open In Colab\"/></a>"
      ]
    },
    {
      "cell_type": "markdown",
      "source": [
        "0. Se cargan las librerías de trabajo"
      ],
      "metadata": {
        "id": "fi5dLOk8ya1U"
      }
    },
    {
      "cell_type": "code",
      "source": [
        "import pandas as pd\n",
        "import numpy as np\n",
        "import matplotlib.pyplot as plt\n",
        "import seaborn as sns\n",
        "\n",
        "from google.colab import drive\n",
        "drive.mount('/content/drive')"
      ],
      "metadata": {
        "colab": {
          "base_uri": "https://localhost:8080/"
        },
        "id": "2S-RyaifzNdi",
        "outputId": "df08c761-2272-4ba1-93df-d1ab58e01eb4"
      },
      "execution_count": null,
      "outputs": [
        {
          "output_type": "stream",
          "name": "stdout",
          "text": [
            "Drive already mounted at /content/drive; to attempt to forcibly remount, call drive.mount(\"/content/drive\", force_remount=True).\n"
          ]
        }
      ]
    },
    {
      "cell_type": "markdown",
      "source": [
        "1. Se procede con la carga de los datos"
      ],
      "metadata": {
        "id": "tdKn-jZqzfOR"
      }
    },
    {
      "cell_type": "code",
      "source": [
        "def Credibilidad(LDAo,LDAe):\n",
        "  #LDAo indica los datos observados-internos\n",
        "  #LDAe indica los datos externos.integración\n",
        "  NDo=len(LDAo);NDe=len(LDAe)\n",
        "  varo=np.var(LDAo);vare=np.var(LDAe)\n",
        "  uo=np.mean(LDAo);ue=np.mean(LDAe)\n",
        "\n",
        "  EPV=(NDo*varo+NDe*vare)/(NDo+NDe)\n",
        "  MH=(NDo*uo+NDe*ue)/(NDo+NDe) #Media Hipotética\n",
        "  pNDo=NDo/(NDo+NDe);pNDe=NDe/(NDo+NDe)\n",
        "\n",
        "  VHM = pNDo*uo**2+pNDe*ue**2-MH**2\n",
        "\n",
        "  Cr=NDo/(NDo+(EPV/VHM))\n",
        "\n",
        "  return Cr"
      ],
      "metadata": {
        "id": "6IUd34BZ1f4i"
      },
      "execution_count": null,
      "outputs": []
    },
    {
      "cell_type": "code",
      "source": [
        "nxlo='/content/drive/MyDrive/BUSINESS INTELLIGENCE/Integración de datos y prospectiva/2. FallasTecnológicas.xlsx'\n",
        "nxle='/content/drive/MyDrive/BUSINESS INTELLIGENCE/Integración de datos y prospectiva/2. AdmonEjecProcesos.xlsx'"
      ],
      "metadata": {
        "id": "OCIIqL8NzkNp"
      },
      "execution_count": null,
      "outputs": []
    },
    {
      "cell_type": "code",
      "source": [
        "XDBo=pd.read_excel(nxlo,sheet_name=0)\n",
        "XDBe=pd.read_excel(nxle,sheet_name=0)\n",
        "\n",
        "Xfo=XDBo.iloc[:,3]\n",
        "Xfe=XDBe.iloc[:,3]\n",
        "Xso=XDBo.iloc[:,4]\n",
        "Xse=XDBe.iloc[:,4]\n",
        "\n",
        "LDAo=np.multiply(Xfo,Xso);LDAe=np.multiply(Xfe,Xse)\n",
        "Cr=Credibilidad(LDAo,LDAe)\n",
        "\n",
        "print('La credibilidad es:',Cr)\n",
        "\n",
        "#Entonces cómo sería la media de los datos integrados\n",
        "uint=np.mean(LDAo)*Cr+np.mean(LDAe)*(1-Cr)\n",
        "print('La media de los datos internos es', np.mean(LDAo))\n",
        "print('La media de los datos externos es', np.mean(LDAe))\n",
        "print('La media de los datos integrados es:',uint)"
      ],
      "metadata": {
        "colab": {
          "base_uri": "https://localhost:8080/"
        },
        "id": "leo6IlWsz9jq",
        "outputId": "cf82b3a7-6771-4710-977e-1913059f0569"
      },
      "execution_count": null,
      "outputs": [
        {
          "output_type": "stream",
          "name": "stdout",
          "text": [
            "La credibilidad es: 0.9870054566722836\n",
            "La media de los datos internos es 9.45111269614836\n",
            "La media de los datos externos es 1.469187040102234\n",
            "La media de los datos integrados es: 9.347391217372259\n"
          ]
        }
      ]
    },
    {
      "cell_type": "markdown",
      "source": [
        "# Análisis de resultados\n",
        "\n",
        "En la integración de bases de datos, se puedo observar que la base de datos interna posee un total de 701 datos, mientras que la base de datos externa posee un total de 300 datos. La media de los datos interna estuvo cernana a los 9,46 millones, mientras que la media de los datos externos estuvo cerca a las 1,46 millones, lo que muestra la gran diferencia que poseen estas bases de datos frente a la magnitud de las pérdidas, y que se ve claramente reflejado en el valor de credibilidad el cual estuvo por encima del 95% (0.98) en promedio, lo que indica la poca credibilidad de los datos externos frente a una posible de integración de los datos a una base de datos interna."
      ],
      "metadata": {
        "id": "yBMnv1qR7b-f"
      }
    },
    {
      "cell_type": "markdown",
      "source": [
        "1. Se crea el procedimiento para calcular la credibilidad"
      ],
      "metadata": {
        "id": "tNZMP-Pv1bTE"
      }
    }
  ]
}