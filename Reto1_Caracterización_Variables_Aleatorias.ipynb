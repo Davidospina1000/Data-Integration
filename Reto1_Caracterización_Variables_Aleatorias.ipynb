{
  "nbformat": 4,
  "nbformat_minor": 0,
  "metadata": {
    "colab": {
      "provenance": [],
      "authorship_tag": "ABX9TyMhTLQ5WiN0GVt1vjIaQq00",
      "include_colab_link": true
    },
    "kernelspec": {
      "name": "python3",
      "display_name": "Python 3"
    },
    "language_info": {
      "name": "python"
    }
  },
  "cells": [
    {
      "cell_type": "markdown",
      "metadata": {
        "id": "view-in-github",
        "colab_type": "text"
      },
      "source": [
        "<a href=\"https://colab.research.google.com/github/Davidospina1000/Data-Integration/blob/main/Reto1_Caracterizaci%C3%B3n_Variables_Aleatorias.ipynb\" target=\"_parent\"><img src=\"https://colab.research.google.com/assets/colab-badge.svg\" alt=\"Open In Colab\"/></a>"
      ]
    },
    {
      "cell_type": "markdown",
      "source": [
        "# Reto 1 - Caracterización y Muestreo de Variables Aleatorias\n",
        "\n",
        "*David Ospina Muñoz*\n",
        "\n",
        "Una empresa del sector asegurador ha creado una base de datos de eventos de pérdidas asociado con la administración y la ejecución asociado con los procesos de la organización. De acuerdo con la base de datos, la empresa quiere llevar a cabo la caracterización de la distribución agregada de sus pérdidas. Para la caracterización de la distribución agregada de pérdidas es necesario tener en cuenta las siguientes métricas:\n",
        "\n",
        "* Error asociado con la muestra de los datos. (Tamaño de la Muestra).\n",
        "\n",
        "* Media\n",
        "\n",
        "* Varianza\n",
        "\n",
        "* Coeficiente de Asimetría\n",
        "\n",
        "* Coeficiente de Kurtosis\n",
        "\n",
        "* Llevar a cabo el proceso de muestreo aleatorio de la variable a una confiabilidad del 99.9% según los acuerdos de Basilea mediante la utilización del método de Montecarlo.\n"
      ],
      "metadata": {
        "id": "J3u4L1Q9Od5K"
      }
    },
    {
      "cell_type": "markdown",
      "source": [
        "0. Cargar las librerías de trabajo"
      ],
      "metadata": {
        "id": "4YhifGVbPQaS"
      }
    },
    {
      "cell_type": "code",
      "source": [
        "import numpy as np\n",
        "import pandas as pd\n",
        "import matplotlib.pyplot as plt\n",
        "import seaborn as sns"
      ],
      "metadata": {
        "id": "WcK8gZz3ej5K"
      },
      "execution_count": null,
      "outputs": []
    },
    {
      "cell_type": "markdown",
      "source": [
        "1. Cargar el archivo\n"
      ],
      "metadata": {
        "id": "CeoyOKNcQK1N"
      }
    },
    {
      "cell_type": "code",
      "source": [
        "nxl = '/content/1. AdmonEjecProcesos.xlsx'"
      ],
      "metadata": {
        "id": "wFKEElyPlVd0"
      },
      "execution_count": null,
      "outputs": []
    },
    {
      "cell_type": "markdown",
      "source": [
        "2. Seleccionamos las variables de interés y calculamos las pérdidas"
      ],
      "metadata": {
        "id": "HcrCIldySA9j"
      }
    },
    {
      "cell_type": "code",
      "source": [
        "#Cargamos los datos iniciales (n=350)\n",
        "\n",
        "XDB = pd.read_excel(nxl, sheet_name=0)\n",
        "XDB.head(100) #Mostrar los primeros 100 datos\n",
        "\n",
        "#Tomamos las variables de interés\n",
        "Xev=XDB.iloc[:,3] #Variable Eventos Semanales\n",
        "Xsev=XDB.iloc[:,4] #Pérdidas promedio por Evento\n",
        "LDA=np.multiply(Xev,Xsev) #Multiplicamos las variables"
      ],
      "metadata": {
        "colab": {
          "base_uri": "https://localhost:8080/",
          "height": 458
        },
        "id": "4p2Fe46TbN5x",
        "outputId": "dc04cdbf-e033-4b3c-990c-89073df50f33"
      },
      "execution_count": null,
      "outputs": [
        {
          "output_type": "execute_result",
          "data": {
            "text/plain": [
              "0      0.395144\n",
              "1      0.148815\n",
              "2      0.349362\n",
              "3      0.107869\n",
              "4      0.819804\n",
              "         ...   \n",
              "345    0.578173\n",
              "346    0.108817\n",
              "347    3.487451\n",
              "348    0.048614\n",
              "349    0.560543\n",
              "Length: 350, dtype: float64"
            ],
            "text/html": [
              "<div>\n",
              "<style scoped>\n",
              "    .dataframe tbody tr th:only-of-type {\n",
              "        vertical-align: middle;\n",
              "    }\n",
              "\n",
              "    .dataframe tbody tr th {\n",
              "        vertical-align: top;\n",
              "    }\n",
              "\n",
              "    .dataframe thead th {\n",
              "        text-align: right;\n",
              "    }\n",
              "</style>\n",
              "<table border=\"1\" class=\"dataframe\">\n",
              "  <thead>\n",
              "    <tr style=\"text-align: right;\">\n",
              "      <th></th>\n",
              "      <th>0</th>\n",
              "    </tr>\n",
              "  </thead>\n",
              "  <tbody>\n",
              "    <tr>\n",
              "      <th>0</th>\n",
              "      <td>0.395144</td>\n",
              "    </tr>\n",
              "    <tr>\n",
              "      <th>1</th>\n",
              "      <td>0.148815</td>\n",
              "    </tr>\n",
              "    <tr>\n",
              "      <th>2</th>\n",
              "      <td>0.349362</td>\n",
              "    </tr>\n",
              "    <tr>\n",
              "      <th>3</th>\n",
              "      <td>0.107869</td>\n",
              "    </tr>\n",
              "    <tr>\n",
              "      <th>4</th>\n",
              "      <td>0.819804</td>\n",
              "    </tr>\n",
              "    <tr>\n",
              "      <th>...</th>\n",
              "      <td>...</td>\n",
              "    </tr>\n",
              "    <tr>\n",
              "      <th>345</th>\n",
              "      <td>0.578173</td>\n",
              "    </tr>\n",
              "    <tr>\n",
              "      <th>346</th>\n",
              "      <td>0.108817</td>\n",
              "    </tr>\n",
              "    <tr>\n",
              "      <th>347</th>\n",
              "      <td>3.487451</td>\n",
              "    </tr>\n",
              "    <tr>\n",
              "      <th>348</th>\n",
              "      <td>0.048614</td>\n",
              "    </tr>\n",
              "    <tr>\n",
              "      <th>349</th>\n",
              "      <td>0.560543</td>\n",
              "    </tr>\n",
              "  </tbody>\n",
              "</table>\n",
              "<p>350 rows × 1 columns</p>\n",
              "</div><br><label><b>dtype:</b> float64</label>"
            ]
          },
          "metadata": {},
          "execution_count": 5
        }
      ]
    },
    {
      "cell_type": "code",
      "source": [
        "#Cargamos los datos muestreados (n=1000)\n",
        "XDB_muestreo = pd.read_excel(nxl, sheet_name=4)\n",
        "XDB_muestreo.head(100) #Mostrar los primeros 100 datos\n",
        "\n",
        "#Tomamos las variables de interés\n",
        "Xev_muestreo=XDB_muestreo.iloc[:,0] #Variable Eventos Semanales\n",
        "Xsev_muestreo=XDB_muestreo.iloc[:,1] #Pérdidas promedio por Evento\n",
        "LDA_muestreo=np.multiply(Xev_muestreo,Xsev_muestreo) #Multiplicamos las variables"
      ],
      "metadata": {
        "colab": {
          "base_uri": "https://localhost:8080/",
          "height": 458
        },
        "id": "caPMpPAZQ0Pn",
        "outputId": "921da56e-3ff9-461e-ac36-4ca805f36df8"
      },
      "execution_count": null,
      "outputs": [
        {
          "output_type": "execute_result",
          "data": {
            "text/plain": [
              "0      0.899455\n",
              "1      0.200739\n",
              "2      0.261069\n",
              "3      1.418771\n",
              "4      0.081846\n",
              "         ...   \n",
              "995    2.120384\n",
              "996    0.082327\n",
              "997    0.295706\n",
              "998    0.564789\n",
              "999    0.911421\n",
              "Length: 1000, dtype: float64"
            ],
            "text/html": [
              "<div>\n",
              "<style scoped>\n",
              "    .dataframe tbody tr th:only-of-type {\n",
              "        vertical-align: middle;\n",
              "    }\n",
              "\n",
              "    .dataframe tbody tr th {\n",
              "        vertical-align: top;\n",
              "    }\n",
              "\n",
              "    .dataframe thead th {\n",
              "        text-align: right;\n",
              "    }\n",
              "</style>\n",
              "<table border=\"1\" class=\"dataframe\">\n",
              "  <thead>\n",
              "    <tr style=\"text-align: right;\">\n",
              "      <th></th>\n",
              "      <th>0</th>\n",
              "    </tr>\n",
              "  </thead>\n",
              "  <tbody>\n",
              "    <tr>\n",
              "      <th>0</th>\n",
              "      <td>0.899455</td>\n",
              "    </tr>\n",
              "    <tr>\n",
              "      <th>1</th>\n",
              "      <td>0.200739</td>\n",
              "    </tr>\n",
              "    <tr>\n",
              "      <th>2</th>\n",
              "      <td>0.261069</td>\n",
              "    </tr>\n",
              "    <tr>\n",
              "      <th>3</th>\n",
              "      <td>1.418771</td>\n",
              "    </tr>\n",
              "    <tr>\n",
              "      <th>4</th>\n",
              "      <td>0.081846</td>\n",
              "    </tr>\n",
              "    <tr>\n",
              "      <th>...</th>\n",
              "      <td>...</td>\n",
              "    </tr>\n",
              "    <tr>\n",
              "      <th>995</th>\n",
              "      <td>2.120384</td>\n",
              "    </tr>\n",
              "    <tr>\n",
              "      <th>996</th>\n",
              "      <td>0.082327</td>\n",
              "    </tr>\n",
              "    <tr>\n",
              "      <th>997</th>\n",
              "      <td>0.295706</td>\n",
              "    </tr>\n",
              "    <tr>\n",
              "      <th>998</th>\n",
              "      <td>0.564789</td>\n",
              "    </tr>\n",
              "    <tr>\n",
              "      <th>999</th>\n",
              "      <td>0.911421</td>\n",
              "    </tr>\n",
              "  </tbody>\n",
              "</table>\n",
              "<p>1000 rows × 1 columns</p>\n",
              "</div><br><label><b>dtype:</b> float64</label>"
            ]
          },
          "metadata": {},
          "execution_count": 8
        }
      ]
    },
    {
      "cell_type": "markdown",
      "source": [
        "3. Se procede a graficar las pérdidas"
      ],
      "metadata": {
        "id": "BEeGvm7qQqrX"
      }
    },
    {
      "cell_type": "code",
      "source": [
        "#Gráficamos la Distribución de las Pérdidas\n",
        "plt.figure()\n",
        "sns.histplot(LDA, kde=True, bins=10, label='LDA')\n",
        "sns.histplot(LDA_muestreo, kde=True, bins=10, label='LDA_muestreo', color='orange')\n",
        "plt.title('Distribución de Pérdidas')\n",
        "plt.xlabel('Pérdidas')\n",
        "plt.ylabel('Frecuencia')\n",
        "plt.legend()\n",
        "plt.show()"
      ],
      "metadata": {
        "colab": {
          "base_uri": "https://localhost:8080/",
          "height": 472
        },
        "id": "XGBM_tuVSMjl",
        "outputId": "8a5cb1b6-808c-469f-ff96-4199f1808a11"
      },
      "execution_count": null,
      "outputs": [
        {
          "output_type": "display_data",
          "data": {
            "text/plain": [
              "<Figure size 640x480 with 1 Axes>"
            ],
            "image/png": "[encoded data removed]"
          },
          "metadata": {}
        }
      ]
    },
    {
      "cell_type": "code",
      "source": [
        "import scipy.stats as stats\n",
        "\n",
        "#Calculamos la curtosis y el coeficiente de asimetría para LDA\n",
        "kurtosis_lda = stats.kurtosis(LDA)\n",
        "asimetria_lda = stats.skew(LDA)\n",
        "\n",
        "#Calculamos la curtosis y el coeficiente de asimetría para LDA_muestreo\n",
        "kurtosis_lda_muestreo = stats.kurtosis(LDA_muestreo)\n",
        "asimetria_lda_muestreo = stats.skew(LDA_muestreo)\n",
        "\n",
        "#Calculamos las variaciones\n",
        "kurtosis_variacion = ((kurtosis_lda_muestreo - kurtosis_lda)/kurtosis_lda)*100\n",
        "asimetria_variacion = ((asimetria_lda_muestreo - asimetria_lda)/asimetria_lda)*100\n",
        "\n",
        "print(\"Curtosis de LDA:\", kurtosis_lda)\n",
        "print(\"Coeficiente de asimetría de LDA:\", asimetria_lda)\n",
        "print(\"Curtosis de LDA_muestreo:\", kurtosis_lda_muestreo)\n",
        "print(\"Coeficiente de asimetría de LDA_muestreo:\", asimetria_lda_muestreo)\n",
        "print(\"Variación de la curtosis:\", kurtosis_variacion, '%')\n",
        "print(\"Variación del coeficiente de asimetría:\", asimetria_variacion, '%')"
      ],
      "metadata": {
        "colab": {
          "base_uri": "https://localhost:8080/"
        },
        "id": "dbA-E6CilaT4",
        "outputId": "d7ca6a38-8806-4ed6-9eae-95d30313fb44"
      },
      "execution_count": null,
      "outputs": [
        {
          "output_type": "stream",
          "name": "stdout",
          "text": [
            "Curtosis de LDA: 29.643693069779438\n",
            "Coeficiente de asimetría de LDA: 5.059212525816747\n",
            "Curtosis de LDA_muestreo: 41.07048459541037\n",
            "Coeficiente de asimetría de LDA_muestreo: 5.366346198073022\n",
            "Variación de la curtosis: 38.5471253488321 %\n",
            "Variación del coeficiente de asimetría: 6.070780199270084 %\n"
          ]
        }
      ]
    },
    {
      "cell_type": "markdown",
      "source": [
        "4. Caracterización de la distribución agregada de pérdidas"
      ],
      "metadata": {
        "id": "-8lrlzoDS2Xh"
      }
    },
    {
      "cell_type": "code",
      "source": [
        "#Para los datos originales\n",
        "counts,bin_edges=np.histogram(LDA,bins=10)\n",
        "print(counts)    #Cuantos datos hay por intervalo\n",
        "print(bin_edges) #Límites de los intervalos\n",
        "\n",
        "#Para los datos muestreados\n",
        "counts_m,bin_edges_m=np.histogram(LDA_muestreo,bins=10)\n",
        "print(counts_m)    #Cuantos datos hay por intervalo\n",
        "print(bin_edges_m) #Límites de los intervalos\n",
        "\n",
        "\n",
        "#Los valores centrales - marcas de clase para los datos originales\n",
        "mc=(bin_edges[1:]+bin_edges[:-1])/2\n",
        "#Límites inferiores bin_edges[:-1]\n",
        "#Límites superiores bin_edges[1:]\n",
        "print(\"Los valores centrales de las clases para los datos originales son:\\n\",mc)\n",
        "\n",
        "\n",
        "#Los valores centrales - marcas de clase para los datos muestreados\n",
        "mc_muestreo=(bin_edges_m[1:]+bin_edges_m[:-1])/2\n",
        "#Límites inferiores bin_edges[:-1]\n",
        "#Límites superiores bin_edges[1:]\n",
        "print(\"Los valores centrales de las clases para los datos muestreados son:\\n\",mc_muestreo)\n",
        "\n",
        "\n",
        "#Cuantos datos hay por intervalo (n=350)\n",
        "fp=counts/sum(counts)\n",
        "print(\"Los datos originales por intervalo son:\\n\",fp)\n",
        "\n",
        "#Cuantos datos hay por intervalo (n=1000)\n",
        "fp_m=counts_m/sum(counts_m)\n",
        "print(\"Los datos muestreados por intervalo son:\\n\",fp_m)"
      ],
      "metadata": {
        "colab": {
          "base_uri": "https://localhost:8080/"
        },
        "id": "v25YRUwsSu4A",
        "outputId": "77c704d4-c0da-4f62-97bc-864604b620f4"
      },
      "execution_count": null,
      "outputs": [
        {
          "output_type": "stream",
          "name": "stdout",
          "text": [
            "[315  15   8   4   1   2   3   0   1   1]\n",
            "[ 0.          3.48221562  6.96443124 10.44664686 13.92886248 17.4110781\n",
            " 20.89329372 24.37550933 27.85772495 31.33994057 34.82215619]\n",
            "[906  52  24   6   8   1   0   2   0   1]\n",
            "[3.18907101e-04 2.16987975e+00 4.33944060e+00 6.50900144e+00\n",
            " 8.67856229e+00 1.08481231e+01 1.30176840e+01 1.51872448e+01\n",
            " 1.73568057e+01 1.95263665e+01 2.16959274e+01]\n",
            "Los valores centrales de las clases para los datos originales son:\n",
            " [ 1.74110781  5.22332343  8.70553905 12.18775467 15.66997029 19.15218591\n",
            " 22.63440152 26.11661714 29.59883276 33.08104838]\n",
            "Los valores centrales de las clases para los datos muestreados son:\n",
            " [ 1.08509933  3.25466017  5.42422102  7.59378186  9.76334271 11.93290355\n",
            " 14.1024644  16.27202524 18.44158609 20.61114693]\n",
            "Los datos originales por intervalo son:\n",
            " [0.9        0.04285714 0.02285714 0.01142857 0.00285714 0.00571429\n",
            " 0.00857143 0.         0.00285714 0.00285714]\n",
            "Los datos muestreados por intervalo son:\n",
            " [0.906 0.052 0.024 0.006 0.008 0.001 0.    0.002 0.    0.001]\n"
          ]
        }
      ]
    },
    {
      "cell_type": "code",
      "source": [
        "#Se procede con el cálculo de las medidas de tendencia central: Media, varianza,coeficiente de asimetría, Kurtosis\n",
        "\n",
        "#Para los datos originales\n",
        "u=np.sum(np.multiply(mc,fp))\n",
        "print(\"La media de los datos originales es:\",u)\n",
        "\n",
        "#Para los datos muestreados\n",
        "u_muestreo=np.sum(np.multiply(mc_muestreo,fp_m))\n",
        "print(\"La media de los datos muestreados es:\",u_muestreo)"
      ],
      "metadata": {
        "colab": {
          "base_uri": "https://localhost:8080/"
        },
        "id": "8dhSNYIVS-uu",
        "outputId": "c2f50393-5bc9-4069-aec5-6aa03bf7589e"
      },
      "execution_count": null,
      "outputs": [
        {
          "output_type": "stream",
          "name": "stdout",
          "text": [
            "La media de los datos originales es: 2.656433058055811\n",
            "La media de los datos muestreados es: 1.4712811597683224\n"
          ]
        }
      ]
    },
    {
      "cell_type": "code",
      "source": [
        "#Desviación estándar - varianza #Para los datos originales\n",
        "var=np.sum(np.multiply(np.power(mc-u,2),fp)) #(mc-u)**2\n",
        "print(\"La varianza de los datos es:\",var)\n",
        "std=np.sqrt(var)\n",
        "print(\"La desviación estándar de los datos es:\",std)\n",
        "\n",
        "#Desviación estándar - varianza #Para los datos muestreados\n",
        "var_muestreo=np.sum(np.multiply(np.power(mc_muestreo-u_muestreo,2),fp_m))\n",
        "print(\"La varianza de los datos muestreados es:\",var_muestreo)\n",
        "std_muestreo=np.sqrt(var_muestreo)\n",
        "print(\"La desviación estándar de los datos muestreados es:\",std_muestreo)\n",
        "\n",
        "#Coeficiente de asimetría #Datos originales\n",
        "cas=np.sum(np.multiply(np.power((mc-u)/std,3),fp))\n",
        "print(\"El coeficiente de asimetría de los datos es:\",cas)\n",
        "\n",
        "#Coeficiente de asimetría #Datos muestreados\n",
        "cas_muestreo=np.sum(np.multiply(np.power((mc_muestreo-u_muestreo)/std_muestreo,3),fp_m))\n",
        "print(\"El coeficiente de asimetría de los datos muestreados es:\",cas_muestreo)\n",
        "\n",
        "#Kurtosis #Datos originales\n",
        "kur=np.sum(np.multiply(np.power((mc-u)/std,4),fp))\n",
        "kur=kur-3\n",
        "print(\"La kurtosis de los datos es:\",kur)\n",
        "\n",
        "#Kurtosis #Datos muestreados\n",
        "kur_muestreo=np.sum(np.multiply(np.power((mc_muestreo-u_muestreo)/std_muestreo,4),fp_m))\n",
        "kur_muestreo=kur_muestreo-3\n",
        "print(\"La kurtosis de los datos muestreados es:\",kur_muestreo)"
      ],
      "metadata": {
        "colab": {
          "base_uri": "https://localhost:8080/"
        },
        "id": "bucxJuf9TB1Q",
        "outputId": "c6e72020-b2b4-4409-ec5e-ba167483306b"
      },
      "execution_count": null,
      "outputs": [
        {
          "output_type": "stream",
          "name": "stdout",
          "text": [
            "La varianza de los datos es: 13.089556542674002\n",
            "La desviación estándar de los datos es: 3.6179492178130417\n",
            "La varianza de los datos muestreados es: 2.3643985280054745\n",
            "La desviación estándar de los datos muestreados es: 1.5376600820745379\n",
            "El coeficiente de asimetría de los datos es: 5.313307467317224\n",
            "El coeficiente de asimetría de los datos muestreados es: 6.134959143861931\n",
            "La kurtosis de los datos es: 31.735556826670006\n",
            "La kurtosis de los datos muestreados es: 49.73595428100957\n"
          ]
        }
      ]
    },
    {
      "cell_type": "code",
      "source": [
        "#Error asociado con la muestra de los datos originales\n",
        "n = len(LDA)\n",
        "print(\"El tamaño de la muestra es:\",n)\n",
        "Z = 2\n",
        "p = 0.955\n",
        "#Error asociado con la muestra de los datos muestreados\n",
        "n_muestreo = len(LDA_muestreo)\n",
        "print(\"El tamaño de la muestra es:\",n_muestreo)\n",
        "Z = 2\n",
        "p = 0.955"
      ],
      "metadata": {
        "colab": {
          "base_uri": "https://localhost:8080/"
        },
        "id": "QVAa1HAJTTo5",
        "outputId": "4db5bfaa-912a-4bc7-cc92-3924c6be3e14"
      },
      "execution_count": null,
      "outputs": [
        {
          "output_type": "stream",
          "name": "stdout",
          "text": [
            "El tamaño de la muestra es: 350\n",
            "El tamaño de la muestra es: 1000\n"
          ]
        }
      ]
    },
    {
      "cell_type": "code",
      "source": [
        "e = np.sqrt((Z**2 * p * (1-p)) / n)\n",
        "print(\"El error asociado con la muestra de los datos originales es:\",e)\n",
        "e_muestreo = np.sqrt((Z**2 * p * (1-p)) / n_muestreo)\n",
        "print(\"El error asociado con la muestra de los datos muestreados es:\",e_muestreo)"
      ],
      "metadata": {
        "colab": {
          "base_uri": "https://localhost:8080/"
        },
        "id": "W0VANP1uVsxp",
        "outputId": "0644858b-d5ba-45d0-8bea-26a108c8862a"
      },
      "execution_count": null,
      "outputs": [
        {
          "output_type": "stream",
          "name": "stdout",
          "text": [
            "El error asociado con la muestra de los datos originales es: 0.022161743098024975\n",
            "El error asociado con la muestra de los datos muestreados es: 0.0131110640300473\n"
          ]
        }
      ]
    },
    {
      "cell_type": "code",
      "source": [
        "#Variación de la media por el error asociado con la muestra\n",
        "\n",
        "#En los datos originales (n=350)\n",
        "LI = u - e\n",
        "print(\"El límite inferior de la media es:\",LI)\n",
        "LS = u + e\n",
        "print(\"El límite superior de la media es:\",LS)\n",
        "\n",
        "#En los datos muestreados (n=1000)\n",
        "LI_muestreo = u_muestreo - e_muestreo\n",
        "print(\"El límite inferior de la media de los datos muestreados es:\",LI_muestreo)\n",
        "LS_muestreo = u_muestreo + e_muestreo\n",
        "print(\"El límite superior de la media de los datos muestreados es:\",LS_muestreo)"
      ],
      "metadata": {
        "colab": {
          "base_uri": "https://localhost:8080/"
        },
        "id": "idElbR6TWHPz",
        "outputId": "9340ed55-1375-477f-c934-26119c2d5d14"
      },
      "execution_count": null,
      "outputs": [
        {
          "output_type": "stream",
          "name": "stdout",
          "text": [
            "El límite inferior de la media es: 2.634271314957786\n",
            "El límite superior de la media es: 2.678594801153836\n",
            "El límite inferior de la media de los datos muestreados es: 1.458170095738275\n",
            "El límite superior de la media de los datos muestreados es: 1.4843922237983698\n"
          ]
        }
      ]
    },
    {
      "cell_type": "markdown",
      "source": [
        "# Análisis de resultados 📊\n",
        "\n",
        "En la base de datos original (hoja Admon Ejecución Procesos en el archivo de excel), se tiene un total de 350 registros de eventos de pérdidas asociados con la administración y la ejecución de los procesos de la organización. Con el fin de obtener un nivel de confiabilidad del 99.9%, se realiza un muestreo aleatorio basado en el método Montecarlo para obtener un total de 1000 registros (hoja LDA_data en el archivo de excel).\n",
        "\n",
        "En primer lugar, se revisan los coeficientes de asimetría y curtosis para ambas distribuciones con funciones de la librería `scipy.stats` (y respaldado por las funciones de Excel). El análisis de los datos originales y muestreados muestra que hay una presencia de colas pesadas en la distribución de pérdidas. La curtosis de los datos originales es de 29.6437, mientras que en los datos muestreados aumenta a 41.0705, lo que representa una variación del 38.55% (LDA_muestreo vs. LDA). Esta alta curtosis indica que la distribución presenta valores extremos con una frecuencia mayor a la esperada en una distribución normal. El coeficiente de asimetría también evidencia la naturaleza de cola pesada en la distribución. En los datos originales, el coeficiente de asimetría es de 5.0592 y aumenta a 5.3663 en los datos muestreados, con una variación del 6.07% (LDA_muestreo vs. LDA).\n",
        "\n",
        "Es importante resaltar que para que los datos resultantes del muestreo sean mucho más precisos y similares frente a los originales, es necesario repetir el proceso de generación de datos aleatorios muchas más veces (~1000 veces en total)."
      ],
      "metadata": {
        "id": "ATWXofP29XJ9"
      }
    },
    {
      "cell_type": "markdown",
      "source": [
        "![image.png](data:image/png;base64,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)"
      ],
      "metadata": {
        "id": "0PdBjE9IBN2r"
      }
    },
    {
      "cell_type": "markdown",
      "source": [
        "En la gráfica anterior, es posible ver reflejado estos indicadores y se podría afirmar que sus distribuciones son similares, concentrando la mayoría de casos en los valores de pérdida más bajos."
      ],
      "metadata": {
        "id": "Tz0V-VgjBS5s"
      }
    },
    {
      "cell_type": "markdown",
      "source": [
        "### Análisis comparativo de la caracterización de las distribuciones agregadas de pérdidas (LDA)\n",
        "\n",
        "**1.\tMedidas de tendencia central y dispersión**\n",
        "\n",
        "* La media de los datos originales es 2.6564, mientras que en los datos muestreados es 1.4713. Esto indica que el muestreo reduce significativamente el valor promedio de las pérdidas.\n",
        "* La varianza también disminuye considerablemente de 13.0896 en los datos originales a 2.3644 en los datos muestreados, lo que sugiere una menor dispersión en la distribución de pérdidas tras el muestreo.\n",
        "* La desviación estándar se reduce de 3.6179 a 1.5377, lo que implica menor variabilidad en los datos muestreados.\n",
        "\n",
        "**2.\tCoeficiente de asimetría y curtosis**\n",
        "\n",
        "Obtenidos con fórmulas estadísticas.\n",
        "\n",
        "* El coeficiente de asimetría original es 5.3133, mientras que en los datos muestreados es 6.1349, lo que indica una mayor asimetría positiva en la distribución tras el muestreo. Esto sugiere la presencia de eventos de pérdida extrema.\n",
        "* La curtosis aumenta de 31.7356 en los datos originales a 49.7359 en los datos muestreados, reflejando una distribución más concentrada en torno a la media y con colas más pesadas.\n",
        "\n",
        "**3.\tErrores asociados con la muestra**\n",
        "\n",
        "* El error asociado con la muestra de los datos originales es 0.0222, mientras que en los datos muestreados es 0.0131, indicando mayor precisión en la estimación estadística tras el muestreo.\n",
        "* Los intervalos de confianza para la media también reflejan esta precisión mejorada*:\n",
        "\n",
        ">> **Datos originales:** [2.6343, 2.6786]\n",
        "\n",
        ">> **Datos muestreados:** [1.4582, 1.4844]\n",
        "\n",
        "*Entre mayor sea n (número de datos), menor será el error asociado con la muestra.\n"
      ],
      "metadata": {
        "id": "aWOPZ_blBv2I"
      }
    },
    {
      "cell_type": "markdown",
      "source": [
        "El análisis de los datos muestreados (n=1000), obtenidos para una confiabilidad del 99.9% según los acuerdos de Basilea, revela que la distribución presenta una estructura de cola larga, lo que indica que la mayoría de las pérdidas están concentradas en valores bajos, pero existe una menor frecuencia de eventos extremos con pérdidas significativamente altas.\n",
        "\n",
        "El coeficiente de asimetría de 6.1349 indica una asimetría positiva, lo que implica que hay una mayor proporción de eventos de pérdida con valores relativamente bajos, pero también existen valores atípicos de gran magnitud que pueden representar riesgos importantes.\n",
        "\n",
        "Por otro lado, la curtosis de 49.7359 confirma que la distribución está concentrada en torno a la media, con colas más pronunciadas que las de una distribución normal. Esto significa que, aunque la mayoría de las pérdidas son bajas, hay una probabilidad no despreciable de ocurrencia de eventos de pérdida extrema.\n"
      ],
      "metadata": {
        "id": "WUm0LJ75DVH1"
      }
    },
    {
      "cell_type": "markdown",
      "source": [
        "Finalmente, cabe aclarar que el mismo proceso de caracterización se llevo a cabo de igual manera en el archivo de excel adjunto en las hojas (AdmonProcesos y LDA, respectivamente). En general los resultados obtenidos fueron muy similares, a excepción de algunas pequeñas diferencias en unidades en el cálculo de los coeficientes de asimetría y curtosis."
      ],
      "metadata": {
        "id": "WkBlV8JCFpg9"
      }
    }
  ]
}